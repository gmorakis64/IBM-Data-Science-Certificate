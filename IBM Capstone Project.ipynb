{
    "nbformat_minor": 1, 
    "cells": [
        {
            "source": "IBM CAPSTONE PROJECT COURSERA", 
            "cell_type": "markdown", 
            "metadata": {
                "collapsed": true
            }
        }, 
        {
            "source": "This project will use foursquare location Data to explore neighborhoods and New York City. We will use\nthe skills aquired during the course to prepare the Data and analyze the data. We will use clustering\ntechniques to cluster the various neighborhoods. We will then attempt to answer a real life question\nwhich is: Which locations are appropriate for opening a new Bank branch?", 
            "cell_type": "markdown", 
            "metadata": {}
        }, 
        {
            "execution_count": null, 
            "cell_type": "code", 
            "metadata": {}, 
            "outputs": [], 
            "source": ""
        }
    ], 
    "metadata": {
        "kernelspec": {
            "display_name": "Python 3.6", 
            "name": "python3", 
            "language": "python"
        }, 
        "language_info": {
            "mimetype": "text/x-python", 
            "nbconvert_exporter": "python", 
            "version": "3.6.8", 
            "name": "python", 
            "file_extension": ".py", 
            "pygments_lexer": "ipython3", 
            "codemirror_mode": {
                "version": 3, 
                "name": "ipython"
            }
        }
    }, 
    "nbformat": 4
}